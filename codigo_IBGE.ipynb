{
  "nbformat": 4,
  "nbformat_minor": 0,
  "metadata": {
    "colab": {
      "provenance": [],
      "authorship_tag": "ABX9TyMvHjBezpvMKEhKY6xqKnCV",
      "include_colab_link": true
    },
    "kernelspec": {
      "name": "python3",
      "display_name": "Python 3"
    },
    "language_info": {
      "name": "python"
    }
  },
  "cells": [
    {
      "cell_type": "markdown",
      "metadata": {
        "id": "view-in-github",
        "colab_type": "text"
      },
      "source": [
        "<a href=\"https://colab.research.google.com/github/GustavoPastorelli/Python-para-iniciantes/blob/main/codigo_IBGE.ipynb\" target=\"_parent\"><img src=\"https://colab.research.google.com/assets/colab-badge.svg\" alt=\"Open In Colab\"/></a>"
      ]
    },
    {
      "cell_type": "markdown",
      "source": [
        "## **Raspagem e estatistica**"
      ],
      "metadata": {
        "id": "MsYNDHz-UI3P"
      }
    },
    {
      "cell_type": "code",
      "execution_count": null,
      "metadata": {
        "id": "g-XnCdyaPh3r"
      },
      "outputs": [],
      "source": [
        "import requests\n",
        "from bs4 import BeautifulSoup\n",
        "import pandas as pd"
      ]
    },
    {
      "cell_type": "code",
      "source": [
        "# Função para realizar o WebScraping\n",
        "def scrap_state_info(state: str) -> dict:\n",
        "    \"\"\"\n",
        "    Retorna informações do estado brasileiro\n",
        "\n",
        "    :param state: nome do estado\n",
        "    :returns state_dict: dicionário com indicadores do estado\n",
        "    \"\"\"\n",
        "    print(f'Picking {state} info...')\n",
        "    state_url = f'https://www.ibge.gov.br/cidades-e-estados/{state}.html'\n",
        "    page = requests.get(state_url)\n",
        "\n",
        "    soup = BeautifulSoup(page.content, 'html.parser')\n",
        "    indicadors = soup.select('.indicador')\n",
        "\n",
        "    state_dict = {\n",
        "        ind.select('.ind-label')[0].text: ind.select('.ind-value')[0].text\n",
        "        for ind in indicadors\n",
        "    }\n",
        "\n",
        "    state_dict['Estado'] = state\n",
        "\n",
        "    return state_dict\n",
        "\n",
        "scrap_state_info('sp')"
      ],
      "metadata": {
        "colab": {
          "base_uri": "https://localhost:8080/"
        },
        "id": "YYuamVAKPxLi",
        "outputId": "31d38475-d04e-4583-e0a6-6db35a0e51a8"
      },
      "execution_count": null,
      "outputs": [
        {
          "output_type": "stream",
          "name": "stdout",
          "text": [
            "Picking sp info...\n"
          ]
        },
        {
          "output_type": "execute_result",
          "data": {
            "text/plain": [
              "{'Governador': 'RODRIGO GARCIA\\xa0\\xa0\\xa0[2019]',\n",
              " 'Capital': 'São Paulo\\xa0\\xa0\\xa0[2010]',\n",
              " 'Gentílico': 'paulista',\n",
              " 'Área Territorial': '248.219,485 km²\\xa0\\xa0\\xa0[2021]',\n",
              " 'População estimada': '46.649.132 pessoas\\xa0\\xa0\\xa0[2021]',\n",
              " 'Densidade demográfica': '166,25 hab/km²\\xa0\\xa0\\xa0[2010]',\n",
              " 'Matrículas no ensino fundamental': '5.396.803 matrículas\\xa0\\xa0\\xa0[2021]',\n",
              " 'IDH Índice de desenvolvimento humano': '0,783\\xa0\\xa0\\xa0[2010]',\n",
              " 'Receitas realizadas': '232.822.496,57 R$ (×1000)\\xa0\\xa0\\xa0[2017]',\n",
              " 'Despesas empenhadas': '231.982.243,69 R$ (×1000)\\xa0\\xa0\\xa0[2017]',\n",
              " 'Rendimento mensal domiciliar per capita': '1.836 R$\\xa0\\xa0\\xa0[2021]',\n",
              " 'Total de veículos': '31.455.473 veículos\\xa0\\xa0\\xa0[2021]',\n",
              " 'Estado': 'sp'}"
            ]
          },
          "metadata": {},
          "execution_count": 3
        }
      ]
    },
    {
      "cell_type": "code",
      "source": [
        "#PEGA TODOS ESTADOS\n",
        "states = ['AC', 'AL', 'AP', 'AM', 'BA', 'CE', 'DF', 'ES', 'GO', 'MA', 'MT', 'MS', 'MG', 'PA', 'PB', 'PR', 'PE', 'PI', 'RJ', 'RN', 'RS', 'RO', 'RR', 'SC', 'SP', 'SE', 'TO']\n",
        "\n",
        "states_data = [scrap_state_info(state) for state in states]"
      ],
      "metadata": {
        "colab": {
          "base_uri": "https://localhost:8080/"
        },
        "id": "yQuu0U3ivwpj",
        "outputId": "711b01e4-dd69-405d-bdf5-7dd69ddc4ba9"
      },
      "execution_count": null,
      "outputs": [
        {
          "output_type": "stream",
          "name": "stdout",
          "text": [
            "Picking AC info...\n",
            "Picking AL info...\n",
            "Picking AP info...\n",
            "Picking AM info...\n",
            "Picking BA info...\n",
            "Picking CE info...\n",
            "Picking DF info...\n",
            "Picking ES info...\n",
            "Picking GO info...\n",
            "Picking MA info...\n",
            "Picking MT info...\n",
            "Picking MS info...\n",
            "Picking MG info...\n",
            "Picking PA info...\n",
            "Picking PB info...\n",
            "Picking PR info...\n",
            "Picking PE info...\n",
            "Picking PI info...\n",
            "Picking RJ info...\n",
            "Picking RN info...\n",
            "Picking RS info...\n",
            "Picking RO info...\n",
            "Picking RR info...\n",
            "Picking SC info...\n",
            "Picking SP info...\n",
            "Picking SE info...\n",
            "Picking TO info...\n"
          ]
        }
      ]
    },
    {
      "cell_type": "code",
      "source": [
        "#DADO BRUTO\n",
        "df = pd.DataFrame(states_data)\n",
        "df.head()\n",
        "# df.info()"
      ],
      "metadata": {
        "colab": {
          "base_uri": "https://localhost:8080/",
          "height": 493
        },
        "id": "Z0tUnwN9wBPE",
        "outputId": "5933b511-ec25-4bf1-beab-aee41fe3ef6a"
      },
      "execution_count": null,
      "outputs": [
        {
          "output_type": "execute_result",
          "data": {
            "text/plain": [
              "                                        Governador              Capital  \\\n",
              "0                  GLADSON DE LIMA CAMELI   [2019]  Rio Branco   [2010]   \n",
              "1  JOSE RENAN VASCONCELOS CALHEIROS FILHO   [2019]      Maceió   [2010]   \n",
              "2            ANTONIO WALDEZ GÓES DA SILVA   [2019]      Macapá   [2010]   \n",
              "3                     WILSON MIRANDA LIMA   [2019]      Manaus   [2010]   \n",
              "4                    RUI COSTA DOS SANTOS   [2019]    Salvador   [2010]   \n",
              "\n",
              "    Gentílico            Área Territorial           População estimada  \\\n",
              "0     acriano    164.173,431 km²   [2021]     906.876 pessoas   [2021]   \n",
              "1    alagoano     27.830,661 km²   [2021]   3.365.351 pessoas   [2021]   \n",
              "2   amapaense    142.470,762 km²   [2021]     877.613 pessoas   [2021]   \n",
              "3  amazonense  1.559.167,878 km²   [2021]   4.269.995 pessoas   [2021]   \n",
              "4      baiano    564.760,429 km²   [2021]  14.985.284 pessoas   [2021]   \n",
              "\n",
              "     Densidade demográfica Matrículas no ensino fundamental  \\\n",
              "0    4,47 hab/km²   [2010]       153.015 matrículas   [2021]   \n",
              "1  112,33 hab/km²   [2010]       458.782 matrículas   [2021]   \n",
              "2    4,69 hab/km²   [2010]       133.839 matrículas   [2021]   \n",
              "3    2,23 hab/km²   [2010]       702.763 matrículas   [2021]   \n",
              "4   24,82 hab/km²   [2010]     1.946.957 matrículas   [2021]   \n",
              "\n",
              "  IDH Índice de desenvolvimento humano                Receitas realizadas  \\\n",
              "0                        0,663   [2010]   6.632.883,11 R$ (×1000)   [2017]   \n",
              "1                        0,631   [2010]  11.950.438,46 R$ (×1000)   [2017]   \n",
              "2                        0,708   [2010]   5.396.417,14 R$ (×1000)   [2017]   \n",
              "3                        0,674   [2010]  17.328.459,43 R$ (×1000)   [2017]   \n",
              "4                        0,660   [2010]  50.191.003,24 R$ (×1000)   [2017]   \n",
              "\n",
              "                 Despesas empenhadas Rendimento mensal domiciliar per capita  \\\n",
              "0   6.084.416,81 R$ (×1000)   [2017]                         888 R$   [2021]   \n",
              "1  10.460.634,92 R$ (×1000)   [2017]                         777 R$   [2021]   \n",
              "2   4.224.464,09 R$ (×1000)   [2017]                         855 R$   [2021]   \n",
              "3  15.324.896,56 R$ (×1000)   [2017]                         800 R$   [2021]   \n",
              "4  45.570.160,00 R$ (×1000)   [2017]                         843 R$   [2021]   \n",
              "\n",
              "             Total de veículos Estado  \n",
              "0    320.173 veículos   [2021]     AC  \n",
              "1    981.823 veículos   [2021]     AL  \n",
              "2    224.208 veículos   [2021]     AP  \n",
              "3  1.014.026 veículos   [2021]     AM  \n",
              "4  4.695.972 veículos   [2021]     BA  "
            ],
            "text/html": [
              "\n",
              "  <div id=\"df-c629b977-88de-4c85-b601-d2ab6b690713\">\n",
              "    <div class=\"colab-df-container\">\n",
              "      <div>\n",
              "<style scoped>\n",
              "    .dataframe tbody tr th:only-of-type {\n",
              "        vertical-align: middle;\n",
              "    }\n",
              "\n",
              "    .dataframe tbody tr th {\n",
              "        vertical-align: top;\n",
              "    }\n",
              "\n",
              "    .dataframe thead th {\n",
              "        text-align: right;\n",
              "    }\n",
              "</style>\n",
              "<table border=\"1\" class=\"dataframe\">\n",
              "  <thead>\n",
              "    <tr style=\"text-align: right;\">\n",
              "      <th></th>\n",
              "      <th>Governador</th>\n",
              "      <th>Capital</th>\n",
              "      <th>Gentílico</th>\n",
              "      <th>Área Territorial</th>\n",
              "      <th>População estimada</th>\n",
              "      <th>Densidade demográfica</th>\n",
              "      <th>Matrículas no ensino fundamental</th>\n",
              "      <th>IDH Índice de desenvolvimento humano</th>\n",
              "      <th>Receitas realizadas</th>\n",
              "      <th>Despesas empenhadas</th>\n",
              "      <th>Rendimento mensal domiciliar per capita</th>\n",
              "      <th>Total de veículos</th>\n",
              "      <th>Estado</th>\n",
              "    </tr>\n",
              "  </thead>\n",
              "  <tbody>\n",
              "    <tr>\n",
              "      <th>0</th>\n",
              "      <td>GLADSON DE LIMA CAMELI   [2019]</td>\n",
              "      <td>Rio Branco   [2010]</td>\n",
              "      <td>acriano</td>\n",
              "      <td>164.173,431 km²   [2021]</td>\n",
              "      <td>906.876 pessoas   [2021]</td>\n",
              "      <td>4,47 hab/km²   [2010]</td>\n",
              "      <td>153.015 matrículas   [2021]</td>\n",
              "      <td>0,663   [2010]</td>\n",
              "      <td>6.632.883,11 R$ (×1000)   [2017]</td>\n",
              "      <td>6.084.416,81 R$ (×1000)   [2017]</td>\n",
              "      <td>888 R$   [2021]</td>\n",
              "      <td>320.173 veículos   [2021]</td>\n",
              "      <td>AC</td>\n",
              "    </tr>\n",
              "    <tr>\n",
              "      <th>1</th>\n",
              "      <td>JOSE RENAN VASCONCELOS CALHEIROS FILHO   [2019]</td>\n",
              "      <td>Maceió   [2010]</td>\n",
              "      <td>alagoano</td>\n",
              "      <td>27.830,661 km²   [2021]</td>\n",
              "      <td>3.365.351 pessoas   [2021]</td>\n",
              "      <td>112,33 hab/km²   [2010]</td>\n",
              "      <td>458.782 matrículas   [2021]</td>\n",
              "      <td>0,631   [2010]</td>\n",
              "      <td>11.950.438,46 R$ (×1000)   [2017]</td>\n",
              "      <td>10.460.634,92 R$ (×1000)   [2017]</td>\n",
              "      <td>777 R$   [2021]</td>\n",
              "      <td>981.823 veículos   [2021]</td>\n",
              "      <td>AL</td>\n",
              "    </tr>\n",
              "    <tr>\n",
              "      <th>2</th>\n",
              "      <td>ANTONIO WALDEZ GÓES DA SILVA   [2019]</td>\n",
              "      <td>Macapá   [2010]</td>\n",
              "      <td>amapaense</td>\n",
              "      <td>142.470,762 km²   [2021]</td>\n",
              "      <td>877.613 pessoas   [2021]</td>\n",
              "      <td>4,69 hab/km²   [2010]</td>\n",
              "      <td>133.839 matrículas   [2021]</td>\n",
              "      <td>0,708   [2010]</td>\n",
              "      <td>5.396.417,14 R$ (×1000)   [2017]</td>\n",
              "      <td>4.224.464,09 R$ (×1000)   [2017]</td>\n",
              "      <td>855 R$   [2021]</td>\n",
              "      <td>224.208 veículos   [2021]</td>\n",
              "      <td>AP</td>\n",
              "    </tr>\n",
              "    <tr>\n",
              "      <th>3</th>\n",
              "      <td>WILSON MIRANDA LIMA   [2019]</td>\n",
              "      <td>Manaus   [2010]</td>\n",
              "      <td>amazonense</td>\n",
              "      <td>1.559.167,878 km²   [2021]</td>\n",
              "      <td>4.269.995 pessoas   [2021]</td>\n",
              "      <td>2,23 hab/km²   [2010]</td>\n",
              "      <td>702.763 matrículas   [2021]</td>\n",
              "      <td>0,674   [2010]</td>\n",
              "      <td>17.328.459,43 R$ (×1000)   [2017]</td>\n",
              "      <td>15.324.896,56 R$ (×1000)   [2017]</td>\n",
              "      <td>800 R$   [2021]</td>\n",
              "      <td>1.014.026 veículos   [2021]</td>\n",
              "      <td>AM</td>\n",
              "    </tr>\n",
              "    <tr>\n",
              "      <th>4</th>\n",
              "      <td>RUI COSTA DOS SANTOS   [2019]</td>\n",
              "      <td>Salvador   [2010]</td>\n",
              "      <td>baiano</td>\n",
              "      <td>564.760,429 km²   [2021]</td>\n",
              "      <td>14.985.284 pessoas   [2021]</td>\n",
              "      <td>24,82 hab/km²   [2010]</td>\n",
              "      <td>1.946.957 matrículas   [2021]</td>\n",
              "      <td>0,660   [2010]</td>\n",
              "      <td>50.191.003,24 R$ (×1000)   [2017]</td>\n",
              "      <td>45.570.160,00 R$ (×1000)   [2017]</td>\n",
              "      <td>843 R$   [2021]</td>\n",
              "      <td>4.695.972 veículos   [2021]</td>\n",
              "      <td>BA</td>\n",
              "    </tr>\n",
              "  </tbody>\n",
              "</table>\n",
              "</div>\n",
              "      <button class=\"colab-df-convert\" onclick=\"convertToInteractive('df-c629b977-88de-4c85-b601-d2ab6b690713')\"\n",
              "              title=\"Convert this dataframe to an interactive table.\"\n",
              "              style=\"display:none;\">\n",
              "        \n",
              "  <svg xmlns=\"http://www.w3.org/2000/svg\" height=\"24px\"viewBox=\"0 0 24 24\"\n",
              "       width=\"24px\">\n",
              "    <path d=\"M0 0h24v24H0V0z\" fill=\"none\"/>\n",
              "    <path d=\"M18.56 5.44l.94 2.06.94-2.06 2.06-.94-2.06-.94-.94-2.06-.94 2.06-2.06.94zm-11 1L8.5 8.5l.94-2.06 2.06-.94-2.06-.94L8.5 2.5l-.94 2.06-2.06.94zm10 10l.94 2.06.94-2.06 2.06-.94-2.06-.94-.94-2.06-.94 2.06-2.06.94z\"/><path d=\"M17.41 7.96l-1.37-1.37c-.4-.4-.92-.59-1.43-.59-.52 0-1.04.2-1.43.59L10.3 9.45l-7.72 7.72c-.78.78-.78 2.05 0 2.83L4 21.41c.39.39.9.59 1.41.59.51 0 1.02-.2 1.41-.59l7.78-7.78 2.81-2.81c.8-.78.8-2.07 0-2.86zM5.41 20L4 18.59l7.72-7.72 1.47 1.35L5.41 20z\"/>\n",
              "  </svg>\n",
              "      </button>\n",
              "      \n",
              "  <style>\n",
              "    .colab-df-container {\n",
              "      display:flex;\n",
              "      flex-wrap:wrap;\n",
              "      gap: 12px;\n",
              "    }\n",
              "\n",
              "    .colab-df-convert {\n",
              "      background-color: #E8F0FE;\n",
              "      border: none;\n",
              "      border-radius: 50%;\n",
              "      cursor: pointer;\n",
              "      display: none;\n",
              "      fill: #1967D2;\n",
              "      height: 32px;\n",
              "      padding: 0 0 0 0;\n",
              "      width: 32px;\n",
              "    }\n",
              "\n",
              "    .colab-df-convert:hover {\n",
              "      background-color: #E2EBFA;\n",
              "      box-shadow: 0px 1px 2px rgba(60, 64, 67, 0.3), 0px 1px 3px 1px rgba(60, 64, 67, 0.15);\n",
              "      fill: #174EA6;\n",
              "    }\n",
              "\n",
              "    [theme=dark] .colab-df-convert {\n",
              "      background-color: #3B4455;\n",
              "      fill: #D2E3FC;\n",
              "    }\n",
              "\n",
              "    [theme=dark] .colab-df-convert:hover {\n",
              "      background-color: #434B5C;\n",
              "      box-shadow: 0px 1px 3px 1px rgba(0, 0, 0, 0.15);\n",
              "      filter: drop-shadow(0px 1px 2px rgba(0, 0, 0, 0.3));\n",
              "      fill: #FFFFFF;\n",
              "    }\n",
              "  </style>\n",
              "\n",
              "      <script>\n",
              "        const buttonEl =\n",
              "          document.querySelector('#df-c629b977-88de-4c85-b601-d2ab6b690713 button.colab-df-convert');\n",
              "        buttonEl.style.display =\n",
              "          google.colab.kernel.accessAllowed ? 'block' : 'none';\n",
              "\n",
              "        async function convertToInteractive(key) {\n",
              "          const element = document.querySelector('#df-c629b977-88de-4c85-b601-d2ab6b690713');\n",
              "          const dataTable =\n",
              "            await google.colab.kernel.invokeFunction('convertToInteractive',\n",
              "                                                     [key], {});\n",
              "          if (!dataTable) return;\n",
              "\n",
              "          const docLinkHtml = 'Like what you see? Visit the ' +\n",
              "            '<a target=\"_blank\" href=https://colab.research.google.com/notebooks/data_table.ipynb>data table notebook</a>'\n",
              "            + ' to learn more about interactive tables.';\n",
              "          element.innerHTML = '';\n",
              "          dataTable['output_type'] = 'display_data';\n",
              "          await google.colab.output.renderOutput(dataTable, element);\n",
              "          const docLink = document.createElement('div');\n",
              "          docLink.innerHTML = docLinkHtml;\n",
              "          element.appendChild(docLink);\n",
              "        }\n",
              "      </script>\n",
              "    </div>\n",
              "  </div>\n",
              "  "
            ]
          },
          "metadata": {},
          "execution_count": 5
        }
      ]
    },
    {
      "cell_type": "code",
      "source": [
        "#LIMPA DADOS\n",
        "states_df = df.copy()\n",
        "states_df.columns = ['governor', 'capital', 'gentile', 'area', 'population', 'demographic_density', 'primary_school_enrollment', 'idh', 'realized_revenue', 'committed_expenses', 'income_per_capita', 'vehicle_total', 'code']\n",
        "states_df = states_df[['code', 'governor', 'population', 'area', 'idh', 'income_per_capita', 'vehicle_total', 'primary_school_enrollment', 'committed_expenses', 'realized_revenue']]\n",
        "\n",
        "\n",
        "\n",
        "states_df = states_df.replace({\n",
        "    '\\.': '',\n",
        "    ',': '.',\n",
        "    '\\[\\d+\\]': '',\n",
        "    ' hab/km²': '',\n",
        "    ' km²': '',\n",
        "    ' pessoas': '',\n",
        "    ' matrículas': '',\n",
        "    'R\\$.*': '',\n",
        "    ' veículos': ''\n",
        "}, regex=True)\n",
        "\n",
        "\n",
        "states_df.head()\n",
        "\n",
        "\n",
        "num_cols = ['population', 'area', 'idh', 'income_per_capita', 'vehicle_total', 'primary_school_enrollment', 'committed_expenses', 'realized_revenue']\n",
        "\n",
        "\n",
        "states_df[num_cols] = states_df[num_cols].apply(lambda x: x.str.strip())\n",
        "# states_df[num_cols] = states_df[num_cols].apply(pd.to_numeric)\n",
        "states_df.info()"
      ],
      "metadata": {
        "colab": {
          "base_uri": "https://localhost:8080/"
        },
        "id": "fsPwQFGQwVmj",
        "outputId": "b0f801e1-bed0-40d0-b5a3-9487bc0372f0"
      },
      "execution_count": null,
      "outputs": [
        {
          "output_type": "stream",
          "name": "stdout",
          "text": [
            "<class 'pandas.core.frame.DataFrame'>\n",
            "RangeIndex: 27 entries, 0 to 26\n",
            "Data columns (total 10 columns):\n",
            " #   Column                     Non-Null Count  Dtype \n",
            "---  ------                     --------------  ----- \n",
            " 0   code                       27 non-null     object\n",
            " 1   governor                   27 non-null     object\n",
            " 2   population                 27 non-null     object\n",
            " 3   area                       27 non-null     object\n",
            " 4   idh                        27 non-null     object\n",
            " 5   income_per_capita          27 non-null     object\n",
            " 6   vehicle_total              27 non-null     object\n",
            " 7   primary_school_enrollment  27 non-null     object\n",
            " 8   committed_expenses         27 non-null     object\n",
            " 9   realized_revenue           27 non-null     object\n",
            "dtypes: object(10)\n",
            "memory usage: 2.2+ KB\n"
          ]
        }
      ]
    },
    {
      "cell_type": "code",
      "source": [
        "#SALVA CSV\n",
        "from google.colab import drive\n",
        "#drive.mount('/content/drive')\n",
        "\n",
        "#states_df.to_csv('/content/drive/MyDrive/ibge_states.csv')"
      ],
      "metadata": {
        "id": "Jfi_W7Aww231"
      },
      "execution_count": null,
      "outputs": []
    },
    {
      "cell_type": "code",
      "source": [
        "#GRAFICOS\n",
        "states_df.head()"
      ],
      "metadata": {
        "colab": {
          "base_uri": "https://localhost:8080/",
          "height": 206
        },
        "id": "mLUW6f3hw8A2",
        "outputId": "da7c662b-254c-4118-c26f-9e045835fe18"
      },
      "execution_count": null,
      "outputs": [
        {
          "output_type": "execute_result",
          "data": {
            "text/plain": [
              "  code                                   governor population         area  \\\n",
              "0   AC                  GLADSON DE LIMA CAMELI        906876   164173.431   \n",
              "1   AL  JOSE RENAN VASCONCELOS CALHEIROS FILHO       3365351    27830.661   \n",
              "2   AP            ANTONIO WALDEZ GÓES DA SILVA        877613   142470.762   \n",
              "3   AM                     WILSON MIRANDA LIMA       4269995  1559167.878   \n",
              "4   BA                    RUI COSTA DOS SANTOS      14985284   564760.429   \n",
              "\n",
              "     idh income_per_capita vehicle_total primary_school_enrollment  \\\n",
              "0  0.663               888        320173                    153015   \n",
              "1  0.631               777        981823                    458782   \n",
              "2  0.708               855        224208                    133839   \n",
              "3  0.674               800       1014026                    702763   \n",
              "4  0.660               843       4695972                   1946957   \n",
              "\n",
              "  committed_expenses realized_revenue  \n",
              "0         6084416.81       6632883.11  \n",
              "1        10460634.92      11950438.46  \n",
              "2         4224464.09       5396417.14  \n",
              "3        15324896.56      17328459.43  \n",
              "4        45570160.00      50191003.24  "
            ],
            "text/html": [
              "\n",
              "  <div id=\"df-13eb3dbc-4ad5-474d-a02d-4ac6dafddcd1\">\n",
              "    <div class=\"colab-df-container\">\n",
              "      <div>\n",
              "<style scoped>\n",
              "    .dataframe tbody tr th:only-of-type {\n",
              "        vertical-align: middle;\n",
              "    }\n",
              "\n",
              "    .dataframe tbody tr th {\n",
              "        vertical-align: top;\n",
              "    }\n",
              "\n",
              "    .dataframe thead th {\n",
              "        text-align: right;\n",
              "    }\n",
              "</style>\n",
              "<table border=\"1\" class=\"dataframe\">\n",
              "  <thead>\n",
              "    <tr style=\"text-align: right;\">\n",
              "      <th></th>\n",
              "      <th>code</th>\n",
              "      <th>governor</th>\n",
              "      <th>population</th>\n",
              "      <th>area</th>\n",
              "      <th>idh</th>\n",
              "      <th>income_per_capita</th>\n",
              "      <th>vehicle_total</th>\n",
              "      <th>primary_school_enrollment</th>\n",
              "      <th>committed_expenses</th>\n",
              "      <th>realized_revenue</th>\n",
              "    </tr>\n",
              "  </thead>\n",
              "  <tbody>\n",
              "    <tr>\n",
              "      <th>0</th>\n",
              "      <td>AC</td>\n",
              "      <td>GLADSON DE LIMA CAMELI</td>\n",
              "      <td>906876</td>\n",
              "      <td>164173.431</td>\n",
              "      <td>0.663</td>\n",
              "      <td>888</td>\n",
              "      <td>320173</td>\n",
              "      <td>153015</td>\n",
              "      <td>6084416.81</td>\n",
              "      <td>6632883.11</td>\n",
              "    </tr>\n",
              "    <tr>\n",
              "      <th>1</th>\n",
              "      <td>AL</td>\n",
              "      <td>JOSE RENAN VASCONCELOS CALHEIROS FILHO</td>\n",
              "      <td>3365351</td>\n",
              "      <td>27830.661</td>\n",
              "      <td>0.631</td>\n",
              "      <td>777</td>\n",
              "      <td>981823</td>\n",
              "      <td>458782</td>\n",
              "      <td>10460634.92</td>\n",
              "      <td>11950438.46</td>\n",
              "    </tr>\n",
              "    <tr>\n",
              "      <th>2</th>\n",
              "      <td>AP</td>\n",
              "      <td>ANTONIO WALDEZ GÓES DA SILVA</td>\n",
              "      <td>877613</td>\n",
              "      <td>142470.762</td>\n",
              "      <td>0.708</td>\n",
              "      <td>855</td>\n",
              "      <td>224208</td>\n",
              "      <td>133839</td>\n",
              "      <td>4224464.09</td>\n",
              "      <td>5396417.14</td>\n",
              "    </tr>\n",
              "    <tr>\n",
              "      <th>3</th>\n",
              "      <td>AM</td>\n",
              "      <td>WILSON MIRANDA LIMA</td>\n",
              "      <td>4269995</td>\n",
              "      <td>1559167.878</td>\n",
              "      <td>0.674</td>\n",
              "      <td>800</td>\n",
              "      <td>1014026</td>\n",
              "      <td>702763</td>\n",
              "      <td>15324896.56</td>\n",
              "      <td>17328459.43</td>\n",
              "    </tr>\n",
              "    <tr>\n",
              "      <th>4</th>\n",
              "      <td>BA</td>\n",
              "      <td>RUI COSTA DOS SANTOS</td>\n",
              "      <td>14985284</td>\n",
              "      <td>564760.429</td>\n",
              "      <td>0.660</td>\n",
              "      <td>843</td>\n",
              "      <td>4695972</td>\n",
              "      <td>1946957</td>\n",
              "      <td>45570160.00</td>\n",
              "      <td>50191003.24</td>\n",
              "    </tr>\n",
              "  </tbody>\n",
              "</table>\n",
              "</div>\n",
              "      <button class=\"colab-df-convert\" onclick=\"convertToInteractive('df-13eb3dbc-4ad5-474d-a02d-4ac6dafddcd1')\"\n",
              "              title=\"Convert this dataframe to an interactive table.\"\n",
              "              style=\"display:none;\">\n",
              "        \n",
              "  <svg xmlns=\"http://www.w3.org/2000/svg\" height=\"24px\"viewBox=\"0 0 24 24\"\n",
              "       width=\"24px\">\n",
              "    <path d=\"M0 0h24v24H0V0z\" fill=\"none\"/>\n",
              "    <path d=\"M18.56 5.44l.94 2.06.94-2.06 2.06-.94-2.06-.94-.94-2.06-.94 2.06-2.06.94zm-11 1L8.5 8.5l.94-2.06 2.06-.94-2.06-.94L8.5 2.5l-.94 2.06-2.06.94zm10 10l.94 2.06.94-2.06 2.06-.94-2.06-.94-.94-2.06-.94 2.06-2.06.94z\"/><path d=\"M17.41 7.96l-1.37-1.37c-.4-.4-.92-.59-1.43-.59-.52 0-1.04.2-1.43.59L10.3 9.45l-7.72 7.72c-.78.78-.78 2.05 0 2.83L4 21.41c.39.39.9.59 1.41.59.51 0 1.02-.2 1.41-.59l7.78-7.78 2.81-2.81c.8-.78.8-2.07 0-2.86zM5.41 20L4 18.59l7.72-7.72 1.47 1.35L5.41 20z\"/>\n",
              "  </svg>\n",
              "      </button>\n",
              "      \n",
              "  <style>\n",
              "    .colab-df-container {\n",
              "      display:flex;\n",
              "      flex-wrap:wrap;\n",
              "      gap: 12px;\n",
              "    }\n",
              "\n",
              "    .colab-df-convert {\n",
              "      background-color: #E8F0FE;\n",
              "      border: none;\n",
              "      border-radius: 50%;\n",
              "      cursor: pointer;\n",
              "      display: none;\n",
              "      fill: #1967D2;\n",
              "      height: 32px;\n",
              "      padding: 0 0 0 0;\n",
              "      width: 32px;\n",
              "    }\n",
              "\n",
              "    .colab-df-convert:hover {\n",
              "      background-color: #E2EBFA;\n",
              "      box-shadow: 0px 1px 2px rgba(60, 64, 67, 0.3), 0px 1px 3px 1px rgba(60, 64, 67, 0.15);\n",
              "      fill: #174EA6;\n",
              "    }\n",
              "\n",
              "    [theme=dark] .colab-df-convert {\n",
              "      background-color: #3B4455;\n",
              "      fill: #D2E3FC;\n",
              "    }\n",
              "\n",
              "    [theme=dark] .colab-df-convert:hover {\n",
              "      background-color: #434B5C;\n",
              "      box-shadow: 0px 1px 3px 1px rgba(0, 0, 0, 0.15);\n",
              "      filter: drop-shadow(0px 1px 2px rgba(0, 0, 0, 0.3));\n",
              "      fill: #FFFFFF;\n",
              "    }\n",
              "  </style>\n",
              "\n",
              "      <script>\n",
              "        const buttonEl =\n",
              "          document.querySelector('#df-13eb3dbc-4ad5-474d-a02d-4ac6dafddcd1 button.colab-df-convert');\n",
              "        buttonEl.style.display =\n",
              "          google.colab.kernel.accessAllowed ? 'block' : 'none';\n",
              "\n",
              "        async function convertToInteractive(key) {\n",
              "          const element = document.querySelector('#df-13eb3dbc-4ad5-474d-a02d-4ac6dafddcd1');\n",
              "          const dataTable =\n",
              "            await google.colab.kernel.invokeFunction('convertToInteractive',\n",
              "                                                     [key], {});\n",
              "          if (!dataTable) return;\n",
              "\n",
              "          const docLinkHtml = 'Like what you see? Visit the ' +\n",
              "            '<a target=\"_blank\" href=https://colab.research.google.com/notebooks/data_table.ipynb>data table notebook</a>'\n",
              "            + ' to learn more about interactive tables.';\n",
              "          element.innerHTML = '';\n",
              "          dataTable['output_type'] = 'display_data';\n",
              "          await google.colab.output.renderOutput(dataTable, element);\n",
              "          const docLink = document.createElement('div');\n",
              "          docLink.innerHTML = docLinkHtml;\n",
              "          element.appendChild(docLink);\n",
              "        }\n",
              "      </script>\n",
              "    </div>\n",
              "  </div>\n",
              "  "
            ]
          },
          "metadata": {},
          "execution_count": 10
        }
      ]
    },
    {
      "cell_type": "code",
      "source": [
        "populacao_estado = states_df[['code','governor','population']]\n",
        "print(populacao_estado)"
      ],
      "metadata": {
        "colab": {
          "base_uri": "https://localhost:8080/"
        },
        "id": "6-5lgLS6x1UY",
        "outputId": "63f963f3-4c70-4d3e-b5c3-bd5a977a1172"
      },
      "execution_count": null,
      "outputs": [
        {
          "output_type": "stream",
          "name": "stdout",
          "text": [
            "   code                                   governor population\n",
            "0    AC                  GLADSON DE LIMA CAMELI        906876\n",
            "1    AL  JOSE RENAN VASCONCELOS CALHEIROS FILHO       3365351\n",
            "2    AP            ANTONIO WALDEZ GÓES DA SILVA        877613\n",
            "3    AM                     WILSON MIRANDA LIMA       4269995\n",
            "4    BA                    RUI COSTA DOS SANTOS      14985284\n",
            "5    CE              CAMILO SOBREIRA DE SANTANA       9240580\n",
            "6    DF             IBANEIS ROCHA BARROS JUNIOR       3094325\n",
            "7    ES                  JOSE RENATO CASAGRANDE       4108508\n",
            "8    GO                    RONALDO RAMOS CAIADO       7206589\n",
            "9    MA           FLÁVIO DINO DE CASTRO E COSTA       7153262\n",
            "10   MT                   MAURO MENDES FERREIRA       3567234\n",
            "11   MS                 REINALDO AZAMBUJA SILVA       2839188\n",
            "12   MG                         ROMEU ZEMA NETO      21411923\n",
            "13   PA                 HELDER ZAHLUTH BARBALHO       8777124\n",
            "14   PB                 JOÃO AZEVEDO LINS FILHO       4059905\n",
            "15   PR             CARLOS ROBERTO MASSA JUNIOR      11597484\n",
            "16   PE           PAULO HENRIQUE SARAIVA CÂMARA       9674793\n",
            "17   PI  JOSÉ WELLINGTON BARROSO DE ARAÚJO DIAS       3289290\n",
            "18   RJ        CLÁUDIO BOMFIM DE CASTRO E SILVA      17463349\n",
            "19   RN                 MARIA DE FATIMA BEZERRA       3560903\n",
            "20   RS                   RANOLFO VIEIRA JÚNIOR      11466630\n",
            "21   RO            MARCOS JOSE ROCHA DOS SANTOS       1815278\n",
            "22   RR      ANTONIO OLIVERIO GARCIA DE ALMEIDA        652713\n",
            "23   SC                  CARLOS MOISÉS DA SILVA       7338473\n",
            "24   SP                          RODRIGO GARCIA      46649132\n",
            "25   SE                  BELIVALDO CHAGAS SILVA       2338474\n",
            "26   TO                WANDERLEI BARBOSA CASTRO       1607363\n"
          ]
        }
      ]
    },
    {
      "cell_type": "code",
      "source": [
        "!pip install matplotlib\n",
        "import matplotlib.pyplot as plt"
      ],
      "metadata": {
        "colab": {
          "base_uri": "https://localhost:8080/"
        },
        "id": "KHFlEbvGOg23",
        "outputId": "ab180cc3-a7a1-4cc9-8253-1432c658ab66"
      },
      "execution_count": null,
      "outputs": [
        {
          "output_type": "stream",
          "name": "stdout",
          "text": [
            "Looking in indexes: https://pypi.org/simple, https://us-python.pkg.dev/colab-wheels/public/simple/\n",
            "Requirement already satisfied: matplotlib in /usr/local/lib/python3.7/dist-packages (3.2.2)\n",
            "Requirement already satisfied: cycler>=0.10 in /usr/local/lib/python3.7/dist-packages (from matplotlib) (0.11.0)\n",
            "Requirement already satisfied: pyparsing!=2.0.4,!=2.1.2,!=2.1.6,>=2.0.1 in /usr/local/lib/python3.7/dist-packages (from matplotlib) (3.0.9)\n",
            "Requirement already satisfied: numpy>=1.11 in /usr/local/lib/python3.7/dist-packages (from matplotlib) (1.21.6)\n",
            "Requirement already satisfied: kiwisolver>=1.0.1 in /usr/local/lib/python3.7/dist-packages (from matplotlib) (1.4.4)\n",
            "Requirement already satisfied: python-dateutil>=2.1 in /usr/local/lib/python3.7/dist-packages (from matplotlib) (2.8.2)\n",
            "Requirement already satisfied: typing-extensions in /usr/local/lib/python3.7/dist-packages (from kiwisolver>=1.0.1->matplotlib) (4.1.1)\n",
            "Requirement already satisfied: six>=1.5 in /usr/local/lib/python3.7/dist-packages (from python-dateutil>=2.1->matplotlib) (1.15.0)\n"
          ]
        }
      ]
    },
    {
      "cell_type": "code",
      "source": [
        "nome_das_suas_colunas = states_df['code']\n",
        "valor_das_suas_colunas = states_df['population']\n",
        "lista1 = [states_df['code'],states_df['population']]\n"
      ],
      "metadata": {
        "id": "LqSISJwGQuv5"
      },
      "execution_count": null,
      "outputs": []
    },
    {
      "cell_type": "code",
      "source": [
        "print(lista1)"
      ],
      "metadata": {
        "colab": {
          "base_uri": "https://localhost:8080/"
        },
        "id": "slvxCUlrSub2",
        "outputId": "42134360-d324-48ee-ae49-932940fa5cdc"
      },
      "execution_count": null,
      "outputs": [
        {
          "output_type": "stream",
          "name": "stdout",
          "text": [
            "[0     AC\n",
            "1     AL\n",
            "2     AP\n",
            "3     AM\n",
            "4     BA\n",
            "5     CE\n",
            "6     DF\n",
            "7     ES\n",
            "8     GO\n",
            "9     MA\n",
            "10    MT\n",
            "11    MS\n",
            "12    MG\n",
            "13    PA\n",
            "14    PB\n",
            "15    PR\n",
            "16    PE\n",
            "17    PI\n",
            "18    RJ\n",
            "19    RN\n",
            "20    RS\n",
            "21    RO\n",
            "22    RR\n",
            "23    SC\n",
            "24    SP\n",
            "25    SE\n",
            "26    TO\n",
            "Name: code, dtype: object, 0       906876\n",
            "1      3365351\n",
            "2       877613\n",
            "3      4269995\n",
            "4     14985284\n",
            "5      9240580\n",
            "6      3094325\n",
            "7      4108508\n",
            "8      7206589\n",
            "9      7153262\n",
            "10     3567234\n",
            "11     2839188\n",
            "12    21411923\n",
            "13     8777124\n",
            "14     4059905\n",
            "15    11597484\n",
            "16     9674793\n",
            "17     3289290\n",
            "18    17463349\n",
            "19     3560903\n",
            "20    11466630\n",
            "21     1815278\n",
            "22      652713\n",
            "23     7338473\n",
            "24    46649132\n",
            "25     2338474\n",
            "26     1607363\n",
            "Name: population, dtype: object]\n"
          ]
        }
      ]
    },
    {
      "cell_type": "code",
      "source": [
        "#Estilo do tema\n",
        "plt.style.use('Solarize_Light2')\n",
        "\n",
        "\n",
        "# Barras na vertical\n",
        "plt.bar(nome_das_suas_colunas,valor_das_suas_colunas , color = 'blue')\n",
        "\n",
        "\n",
        "plt.ylabel(\"POPULATION\")\n",
        "plt.xlabel(\"ESTADOS\")\n",
        "plt.title(\"POPULACAO VS ESTADOS\")\n",
        "plt.show()"
      ],
      "metadata": {
        "colab": {
          "base_uri": "https://localhost:8080/",
          "height": 300
        },
        "id": "URFZEQtJSEfe",
        "outputId": "116b5296-2ea1-4b8e-ec4a-17f24b36984c"
      },
      "execution_count": null,
      "outputs": [
        {
          "output_type": "display_data",
          "data": {
            "text/plain": [
              "<Figure size 432x288 with 1 Axes>"
            ],
            "image/png": "[encoded data removed]"
          },
          "metadata": {}
        }
      ]
    },
    {
      "cell_type": "code",
      "source": [
        "populacao_estado = states_df[['code','governor','population']].groupby(['code','governor']).sum()#,sorted('population')\n",
        "print(populacao_estado)"
      ],
      "metadata": {
        "colab": {
          "base_uri": "https://localhost:8080/"
        },
        "id": "IVjcT1DyA9Up",
        "outputId": "35aa8987-b282-4dd2-823b-459c763d8ccf"
      },
      "execution_count": null,
      "outputs": [
        {
          "output_type": "stream",
          "name": "stdout",
          "text": [
            "                                               population\n",
            "code governor                                            \n",
            "AC   GLADSON DE LIMA CAMELI                        906876\n",
            "AL   JOSE RENAN VASCONCELOS CALHEIROS FILHO       3365351\n",
            "AM   WILSON MIRANDA LIMA                          4269995\n",
            "AP   ANTONIO WALDEZ GÓES DA SILVA                  877613\n",
            "BA   RUI COSTA DOS SANTOS                        14985284\n",
            "CE   CAMILO SOBREIRA DE SANTANA                   9240580\n",
            "DF   IBANEIS ROCHA BARROS JUNIOR                  3094325\n",
            "ES   JOSE RENATO CASAGRANDE                       4108508\n",
            "GO   RONALDO RAMOS CAIADO                         7206589\n",
            "MA   FLÁVIO DINO DE CASTRO E COSTA                7153262\n",
            "MG   ROMEU ZEMA NETO                             21411923\n",
            "MS   REINALDO AZAMBUJA SILVA                      2839188\n",
            "MT   MAURO MENDES FERREIRA                        3567234\n",
            "PA   HELDER ZAHLUTH BARBALHO                      8777124\n",
            "PB   JOÃO AZEVEDO LINS FILHO                      4059905\n",
            "PE   PAULO HENRIQUE SARAIVA CÂMARA                9674793\n",
            "PI   JOSÉ WELLINGTON BARROSO DE ARAÚJO DIAS       3289290\n",
            "PR   CARLOS ROBERTO MASSA JUNIOR                 11597484\n",
            "RJ   CLÁUDIO BOMFIM DE CASTRO E SILVA            17463349\n",
            "RN   MARIA DE FATIMA BEZERRA                      3560903\n",
            "RO   MARCOS JOSE ROCHA DOS SANTOS                 1815278\n",
            "RR   ANTONIO OLIVERIO GARCIA DE ALMEIDA            652713\n",
            "RS   RANOLFO VIEIRA JÚNIOR                       11466630\n",
            "SC   CARLOS MOISÉS DA SILVA                       7338473\n",
            "SE   BELIVALDO CHAGAS SILVA                       2338474\n",
            "SP   RODRIGO GARCIA                              46649132\n",
            "TO   WANDERLEI BARBOSA CASTRO                     1607363\n"
          ]
        }
      ]
    },
    {
      "cell_type": "code",
      "source": [
        "populacao_estado.describe()\n",
        "\n",
        "#junta todos os numeros\n",
        "populacao_estado['population'].max()"
      ],
      "metadata": {
        "colab": {
          "base_uri": "https://localhost:8080/",
          "height": 35
        },
        "id": "rX5u-hduAuPx",
        "outputId": "17c766f1-3b00-4cc5-d7da-609c656e0533"
      },
      "execution_count": null,
      "outputs": [
        {
          "output_type": "execute_result",
          "data": {
            "text/plain": [
              "'9674793'"
            ],
            "application/vnd.google.colaboratory.intrinsic+json": {
              "type": "string"
            }
          },
          "metadata": {},
          "execution_count": 37
        }
      ]
    },
    {
      "cell_type": "markdown",
      "source": [
        "# **PLN**"
      ],
      "metadata": {
        "id": "88RvKYCqT-2_"
      }
    },
    {
      "cell_type": "code",
      "source": [
        "!pip install wordcloud -q\n",
        "import numpy as np\n",
        "import pandas as pd\n",
        "import matplotlib.pyplot as plt\n",
        "from PIL import Image\n",
        "from wordcloud import WordCloud, STOPWORDS, ImageColorGenerator"
      ],
      "metadata": {
        "id": "zZ-SGpo-UQ9b"
      },
      "execution_count": null,
      "outputs": []
    },
    {
      "cell_type": "code",
      "source": [
        "stopwords = set(STOPWORDS)\n",
        "stopwords.update([\"da\", \"meu\", \"em\", \"você\", \"de\", \"ao\", \"os\"])"
      ],
      "metadata": {
        "id": "UVAAkr8PZKu7"
      },
      "execution_count": null,
      "outputs": []
    },
    {
      "cell_type": "code",
      "source": [
        "# gerar uma wordcloud\n",
        "wordcloud = WordCloud(stopwords=stopwords,\n",
        "                      background_color=\"black\",\n",
        "                      width=1600, height=800).generate('population')\n",
        "\n",
        "# mostrar a imagem final\n",
        "fig, ax = plt.subplots(figsize=(10,6))\n",
        "ax.imshow(wordcloud, interpolation='bilinear')\n",
        "ax.set_axis_off()\n",
        "\n",
        "plt.imshow(wordcloud);\n",
        "wordcloud.to_file(\"populacao_estado.png\")"
      ],
      "metadata": {
        "colab": {
          "base_uri": "https://localhost:8080/",
          "height": 327
        },
        "id": "A2aIuXKMcxA7",
        "outputId": "526a8ceb-bf9c-4bb9-fa64-3cde6b3efcf5"
      },
      "execution_count": null,
      "outputs": [
        {
          "output_type": "execute_result",
          "data": {
            "text/plain": [
              "<wordcloud.wordcloud.WordCloud at 0x7f0bab044050>"
            ]
          },
          "metadata": {},
          "execution_count": 117
        },
        {
          "output_type": "display_data",
          "data": {
            "text/plain": [
              "<Figure size 720x432 with 1 Axes>"
            ],
            "image/png": "[encoded data removed]"
          },
          "metadata": {}
        }
      ]
    },
    {
      "cell_type": "code",
      "source": [],
      "metadata": {
        "id": "PnSCBlQ5c7vG"
      },
      "execution_count": null,
      "outputs": []
    }
  ]
}